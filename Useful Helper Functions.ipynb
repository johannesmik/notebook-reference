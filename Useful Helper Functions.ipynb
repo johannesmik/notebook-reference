{
 "cells": [
  {
   "cell_type": "markdown",
   "metadata": {},
   "source": [
    "# Display and Output in Jupyter"
   ]
  },
  {
   "cell_type": "markdown",
   "metadata": {},
   "source": [
    "## Print in Markdown\n",
    "\n",
    "Output markdown strings. Taken from https://stackoverflow.com/a/32035217"
   ]
  },
  {
   "cell_type": "code",
   "execution_count": null,
   "metadata": {},
   "outputs": [],
   "source": [
    "import IPython.display\n",
    "def printmd(s):\n",
    "    IPython.display.display(IPython.display.Markdown(s))"
   ]
  },
  {
   "cell_type": "code",
   "execution_count": null,
   "metadata": {},
   "outputs": [],
   "source": [
    "printmd('### Heading')\n",
    "printmd('This is **bold** and _italic_ formatting.')"
   ]
  },
  {
   "cell_type": "markdown",
   "metadata": {},
   "source": [
    "## Jupyter Interface\n",
    "\n",
    "Select a file and perform some action on it.\n",
    "\n",
    "More jupyter widgets are in the official documentation's [Widget List](https://ipywidgets.readthedocs.io/en/stable/examples/Widget%20List.html)."
   ]
  },
  {
   "cell_type": "code",
   "execution_count": null,
   "metadata": {},
   "outputs": [],
   "source": [
    "import ipywidgets as widgets\n",
    "from IPython.display import display\n",
    "\n",
    "import glob"
   ]
  },
  {
   "cell_type": "code",
   "execution_count": null,
   "metadata": {},
   "outputs": [],
   "source": [
    "def action(button):\n",
    "    with out:\n",
    "        print(f\"Doing something with {file_selection.value}\")"
   ]
  },
  {
   "cell_type": "code",
   "execution_count": null,
   "metadata": {},
   "outputs": [],
   "source": [
    "file_selection = widgets.Dropdown(description=\"Choose Notebook\", options=glob.glob(\"*.ipynb\"))\n",
    "action_button = widgets.Button(description=\"Some action\", icon=\"keyboard\")\n",
    "action_button.on_click(action)\n",
    "clear = widgets.Button(description=\"Clear\")\n",
    "clear.on_click(lambda _: out.clear_output())\n",
    "out = widgets.Output(layout={'border': '1px solid black'})\n",
    "display(file_selection, action_button, out, clear)\n",
    "\n",
    "def on_file_change(change):\n",
    "    filename = change[\"new\"]\n",
    "    # Possibility to change other widgets when file_selection has changed\n",
    "    \n",
    "file_selection.observe(on_file_change, names=\"value\")"
   ]
  },
  {
   "cell_type": "markdown",
   "metadata": {},
   "source": [
    "# Controlling the notebook"
   ]
  },
  {
   "cell_type": "markdown",
   "metadata": {},
   "source": [
    "## Installing packages\n",
    "\n",
    "The [pip magic](https://ipython.readthedocs.io/en/stable/interactive/magics.html#magic-pip) installs a pip-package into the current Kernel."
   ]
  },
  {
   "cell_type": "code",
   "execution_count": null,
   "metadata": {},
   "outputs": [],
   "source": [
    "%pip install future"
   ]
  },
  {
   "cell_type": "markdown",
   "metadata": {},
   "source": [
    "## Shut down the Kernel\n",
    "\n",
    "This code can be placed at the end of a Jupyter Notebook to shut down the Kernel and to free up GPU Memory."
   ]
  },
  {
   "cell_type": "code",
   "execution_count": null,
   "metadata": {},
   "outputs": [],
   "source": [
    "import IPython\n",
    "app = IPython.Application.instance()\n",
    "app.kernel.do_shutdown(True)"
   ]
  }
 ],
 "metadata": {
  "kernelspec": {
   "display_name": "\"Python/Mu (mu_venv-36-20210812-210538)\"",
   "language": "python",
   "name": "mu_venv-36-20210812-210538"
  },
  "language_info": {
   "codemirror_mode": {
    "name": "ipython",
    "version": 3
   },
   "file_extension": ".py",
   "mimetype": "text/x-python",
   "name": "python",
   "nbconvert_exporter": "python",
   "pygments_lexer": "ipython3",
   "version": "3.6.9"
  }
 },
 "nbformat": 4,
 "nbformat_minor": 4
}
